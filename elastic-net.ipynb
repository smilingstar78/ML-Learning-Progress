{
 "cells": [
  {
   "cell_type": "code",
   "execution_count": 1,
   "id": "135ce2b9",
   "metadata": {
    "_cell_guid": "b1076dfc-b9ad-4769-8c92-a6c4dae69d19",
    "_uuid": "8f2839f25d086af736a60e9eeb907d3b93b6e0e5",
    "execution": {
     "iopub.execute_input": "2025-06-20T16:34:49.920126Z",
     "iopub.status.busy": "2025-06-20T16:34:49.919768Z",
     "iopub.status.idle": "2025-06-20T16:34:51.776684Z",
     "shell.execute_reply": "2025-06-20T16:34:51.775611Z"
    },
    "papermill": {
     "duration": 1.864576,
     "end_time": "2025-06-20T16:34:51.778772",
     "exception": false,
     "start_time": "2025-06-20T16:34:49.914196",
     "status": "completed"
    },
    "tags": []
   },
   "outputs": [],
   "source": [
    "from sklearn.datasets import load_diabetes\n",
    "from sklearn.metrics import r2_score\n",
    "from sklearn.model_selection import train_test_split\n",
    "from sklearn.linear_model import LinearRegression, Ridge, Lasso, ElasticNet"
   ]
  },
  {
   "cell_type": "code",
   "execution_count": 2,
   "id": "d42b76e5",
   "metadata": {
    "execution": {
     "iopub.execute_input": "2025-06-20T16:34:51.787498Z",
     "iopub.status.busy": "2025-06-20T16:34:51.786951Z",
     "iopub.status.idle": "2025-06-20T16:34:51.801551Z",
     "shell.execute_reply": "2025-06-20T16:34:51.800400Z"
    },
    "papermill": {
     "duration": 0.020927,
     "end_time": "2025-06-20T16:34:51.803467",
     "exception": false,
     "start_time": "2025-06-20T16:34:51.782540",
     "status": "completed"
    },
    "tags": []
   },
   "outputs": [],
   "source": [
    "X, y = load_diabetes(return_X_y = True)"
   ]
  },
  {
   "cell_type": "code",
   "execution_count": 3,
   "id": "c1f33584",
   "metadata": {
    "execution": {
     "iopub.execute_input": "2025-06-20T16:34:51.811401Z",
     "iopub.status.busy": "2025-06-20T16:34:51.810916Z",
     "iopub.status.idle": "2025-06-20T16:34:51.817285Z",
     "shell.execute_reply": "2025-06-20T16:34:51.816408Z"
    },
    "papermill": {
     "duration": 0.012122,
     "end_time": "2025-06-20T16:34:51.818945",
     "exception": false,
     "start_time": "2025-06-20T16:34:51.806823",
     "status": "completed"
    },
    "tags": []
   },
   "outputs": [],
   "source": [
    "X_train, X_test, y_train, y_test = train_test_split(X,y, test_size=0.2, random_state=2)"
   ]
  },
  {
   "cell_type": "markdown",
   "id": "532f863c",
   "metadata": {
    "papermill": {
     "duration": 0.002905,
     "end_time": "2025-06-20T16:34:51.825055",
     "exception": false,
     "start_time": "2025-06-20T16:34:51.822150",
     "status": "completed"
    },
    "tags": []
   },
   "source": [
    "# Linear Regression"
   ]
  },
  {
   "cell_type": "code",
   "execution_count": 4,
   "id": "10fa802e",
   "metadata": {
    "execution": {
     "iopub.execute_input": "2025-06-20T16:34:51.832436Z",
     "iopub.status.busy": "2025-06-20T16:34:51.832090Z",
     "iopub.status.idle": "2025-06-20T16:34:51.836088Z",
     "shell.execute_reply": "2025-06-20T16:34:51.835383Z"
    },
    "papermill": {
     "duration": 0.009336,
     "end_time": "2025-06-20T16:34:51.837519",
     "exception": false,
     "start_time": "2025-06-20T16:34:51.828183",
     "status": "completed"
    },
    "tags": []
   },
   "outputs": [],
   "source": [
    "lr = LinearRegression()"
   ]
  },
  {
   "cell_type": "code",
   "execution_count": 5,
   "id": "29731fe0",
   "metadata": {
    "execution": {
     "iopub.execute_input": "2025-06-20T16:34:51.845607Z",
     "iopub.status.busy": "2025-06-20T16:34:51.844701Z",
     "iopub.status.idle": "2025-06-20T16:34:51.890443Z",
     "shell.execute_reply": "2025-06-20T16:34:51.889570Z"
    },
    "papermill": {
     "duration": 0.051246,
     "end_time": "2025-06-20T16:34:51.891922",
     "exception": false,
     "start_time": "2025-06-20T16:34:51.840676",
     "status": "completed"
    },
    "tags": []
   },
   "outputs": [
    {
     "data": {
      "text/plain": [
       "0.4399338661568969"
      ]
     },
     "execution_count": 5,
     "metadata": {},
     "output_type": "execute_result"
    }
   ],
   "source": [
    "lr.fit(X_train, y_train)\n",
    "y_pred = lr.predict(X_test)\n",
    "r2_score(y_test, y_pred)"
   ]
  },
  {
   "cell_type": "markdown",
   "id": "8ab3ea4f",
   "metadata": {
    "papermill": {
     "duration": 0.002867,
     "end_time": "2025-06-20T16:34:51.898138",
     "exception": false,
     "start_time": "2025-06-20T16:34:51.895271",
     "status": "completed"
    },
    "tags": []
   },
   "source": [
    "# Ridge Regression"
   ]
  },
  {
   "cell_type": "code",
   "execution_count": 6,
   "id": "52768995",
   "metadata": {
    "execution": {
     "iopub.execute_input": "2025-06-20T16:34:51.906219Z",
     "iopub.status.busy": "2025-06-20T16:34:51.905192Z",
     "iopub.status.idle": "2025-06-20T16:34:51.910639Z",
     "shell.execute_reply": "2025-06-20T16:34:51.909582Z"
    },
    "papermill": {
     "duration": 0.011196,
     "end_time": "2025-06-20T16:34:51.912397",
     "exception": false,
     "start_time": "2025-06-20T16:34:51.901201",
     "status": "completed"
    },
    "tags": []
   },
   "outputs": [],
   "source": [
    "rr = Ridge(alpha=0.1)"
   ]
  },
  {
   "cell_type": "code",
   "execution_count": 7,
   "id": "f6c2488e",
   "metadata": {
    "execution": {
     "iopub.execute_input": "2025-06-20T16:34:51.920536Z",
     "iopub.status.busy": "2025-06-20T16:34:51.920152Z",
     "iopub.status.idle": "2025-06-20T16:34:51.944166Z",
     "shell.execute_reply": "2025-06-20T16:34:51.942880Z"
    },
    "papermill": {
     "duration": 0.029963,
     "end_time": "2025-06-20T16:34:51.945881",
     "exception": false,
     "start_time": "2025-06-20T16:34:51.915918",
     "status": "completed"
    },
    "tags": []
   },
   "outputs": [
    {
     "data": {
      "text/plain": [
       "0.4519949419719548"
      ]
     },
     "execution_count": 7,
     "metadata": {},
     "output_type": "execute_result"
    }
   ],
   "source": [
    "rr.fit(X_train, y_train)\n",
    "y_pred1 = rr.predict(X_test)\n",
    "r2_score(y_test, y_pred1)"
   ]
  },
  {
   "cell_type": "markdown",
   "id": "1539fb0e",
   "metadata": {
    "papermill": {
     "duration": 0.003257,
     "end_time": "2025-06-20T16:34:51.952583",
     "exception": false,
     "start_time": "2025-06-20T16:34:51.949326",
     "status": "completed"
    },
    "tags": []
   },
   "source": [
    "# Lasso Regression"
   ]
  },
  {
   "cell_type": "code",
   "execution_count": 8,
   "id": "effbf1ce",
   "metadata": {
    "execution": {
     "iopub.execute_input": "2025-06-20T16:34:51.960600Z",
     "iopub.status.busy": "2025-06-20T16:34:51.960192Z",
     "iopub.status.idle": "2025-06-20T16:34:51.964723Z",
     "shell.execute_reply": "2025-06-20T16:34:51.963889Z"
    },
    "papermill": {
     "duration": 0.010249,
     "end_time": "2025-06-20T16:34:51.966283",
     "exception": false,
     "start_time": "2025-06-20T16:34:51.956034",
     "status": "completed"
    },
    "tags": []
   },
   "outputs": [],
   "source": [
    "LR = Lasso(alpha=0.01)"
   ]
  },
  {
   "cell_type": "code",
   "execution_count": 9,
   "id": "79e3b840",
   "metadata": {
    "execution": {
     "iopub.execute_input": "2025-06-20T16:34:51.975223Z",
     "iopub.status.busy": "2025-06-20T16:34:51.974531Z",
     "iopub.status.idle": "2025-06-20T16:34:51.985464Z",
     "shell.execute_reply": "2025-06-20T16:34:51.984547Z"
    },
    "papermill": {
     "duration": 0.017193,
     "end_time": "2025-06-20T16:34:51.986993",
     "exception": false,
     "start_time": "2025-06-20T16:34:51.969800",
     "status": "completed"
    },
    "tags": []
   },
   "outputs": [
    {
     "data": {
      "text/plain": [
       "0.44111855963110613"
      ]
     },
     "execution_count": 9,
     "metadata": {},
     "output_type": "execute_result"
    }
   ],
   "source": [
    "LR.fit(X_train, y_train)\n",
    "y_pred2 = LR.predict(X_test)\n",
    "r2_score(y_test, y_pred2)"
   ]
  },
  {
   "cell_type": "markdown",
   "id": "54f4a855",
   "metadata": {
    "papermill": {
     "duration": 0.003155,
     "end_time": "2025-06-20T16:34:51.994135",
     "exception": false,
     "start_time": "2025-06-20T16:34:51.990980",
     "status": "completed"
    },
    "tags": []
   },
   "source": [
    "# Elastic Net"
   ]
  },
  {
   "cell_type": "code",
   "execution_count": 10,
   "id": "a1165915",
   "metadata": {
    "execution": {
     "iopub.execute_input": "2025-06-20T16:34:52.002119Z",
     "iopub.status.busy": "2025-06-20T16:34:52.001794Z",
     "iopub.status.idle": "2025-06-20T16:34:52.006230Z",
     "shell.execute_reply": "2025-06-20T16:34:52.005287Z"
    },
    "papermill": {
     "duration": 0.010498,
     "end_time": "2025-06-20T16:34:52.007979",
     "exception": false,
     "start_time": "2025-06-20T16:34:51.997481",
     "status": "completed"
    },
    "tags": []
   },
   "outputs": [],
   "source": [
    "en = ElasticNet(alpha=0.01, l1_ratio=0.9)"
   ]
  },
  {
   "cell_type": "code",
   "execution_count": 11,
   "id": "63a585e2",
   "metadata": {
    "execution": {
     "iopub.execute_input": "2025-06-20T16:34:52.016724Z",
     "iopub.status.busy": "2025-06-20T16:34:52.016435Z",
     "iopub.status.idle": "2025-06-20T16:34:52.025132Z",
     "shell.execute_reply": "2025-06-20T16:34:52.024091Z"
    },
    "papermill": {
     "duration": 0.015222,
     "end_time": "2025-06-20T16:34:52.026754",
     "exception": false,
     "start_time": "2025-06-20T16:34:52.011532",
     "status": "completed"
    },
    "tags": []
   },
   "outputs": [
    {
     "data": {
      "text/plain": [
       "0.4477983324130236"
      ]
     },
     "execution_count": 11,
     "metadata": {},
     "output_type": "execute_result"
    }
   ],
   "source": [
    "en.fit(X_train, y_train)\n",
    "y_pred3 = en.predict(X_test)\n",
    "r2_score(y_test, y_pred3)"
   ]
  },
  {
   "cell_type": "markdown",
   "id": "50aefe06",
   "metadata": {
    "papermill": {
     "duration": 0.003276,
     "end_time": "2025-06-20T16:34:52.033600",
     "exception": false,
     "start_time": "2025-06-20T16:34:52.030324",
     "status": "completed"
    },
    "tags": []
   },
   "source": [
    "**THANKS FOR READING!!!**"
   ]
  },
  {
   "cell_type": "code",
   "execution_count": null,
   "id": "01743f1d",
   "metadata": {
    "papermill": {
     "duration": 0.003134,
     "end_time": "2025-06-20T16:34:52.040155",
     "exception": false,
     "start_time": "2025-06-20T16:34:52.037021",
     "status": "completed"
    },
    "tags": []
   },
   "outputs": [],
   "source": []
  }
 ],
 "metadata": {
  "kaggle": {
   "accelerator": "none",
   "dataSources": [],
   "dockerImageVersionId": 31040,
   "isGpuEnabled": false,
   "isInternetEnabled": true,
   "language": "python",
   "sourceType": "notebook"
  },
  "kernelspec": {
   "display_name": "Python 3",
   "language": "python",
   "name": "python3"
  },
  "language_info": {
   "codemirror_mode": {
    "name": "ipython",
    "version": 3
   },
   "file_extension": ".py",
   "mimetype": "text/x-python",
   "name": "python",
   "nbconvert_exporter": "python",
   "pygments_lexer": "ipython3",
   "version": "3.11.11"
  },
  "papermill": {
   "default_parameters": {},
   "duration": 7.774567,
   "end_time": "2025-06-20T16:34:52.663893",
   "environment_variables": {},
   "exception": null,
   "input_path": "__notebook__.ipynb",
   "output_path": "__notebook__.ipynb",
   "parameters": {},
   "start_time": "2025-06-20T16:34:44.889326",
   "version": "2.6.0"
  }
 },
 "nbformat": 4,
 "nbformat_minor": 5
}
