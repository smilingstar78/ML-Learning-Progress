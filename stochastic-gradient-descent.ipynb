{
 "cells": [
  {
   "cell_type": "code",
   "execution_count": 1,
   "id": "1564f38a",
   "metadata": {
    "_cell_guid": "b1076dfc-b9ad-4769-8c92-a6c4dae69d19",
    "_uuid": "8f2839f25d086af736a60e9eeb907d3b93b6e0e5",
    "execution": {
     "iopub.execute_input": "2025-06-16T13:03:24.747123Z",
     "iopub.status.busy": "2025-06-16T13:03:24.746669Z",
     "iopub.status.idle": "2025-06-16T13:03:26.548773Z",
     "shell.execute_reply": "2025-06-16T13:03:26.547966Z"
    },
    "papermill": {
     "duration": 1.808549,
     "end_time": "2025-06-16T13:03:26.550629",
     "exception": false,
     "start_time": "2025-06-16T13:03:24.742080",
     "status": "completed"
    },
    "tags": []
   },
   "outputs": [],
   "source": [
    "from sklearn.datasets import load_diabetes"
   ]
  },
  {
   "cell_type": "code",
   "execution_count": 2,
   "id": "4fe7b1cf",
   "metadata": {
    "execution": {
     "iopub.execute_input": "2025-06-16T13:03:26.559186Z",
     "iopub.status.busy": "2025-06-16T13:03:26.557804Z",
     "iopub.status.idle": "2025-06-16T13:03:26.575778Z",
     "shell.execute_reply": "2025-06-16T13:03:26.574565Z"
    },
    "papermill": {
     "duration": 0.023457,
     "end_time": "2025-06-16T13:03:26.577477",
     "exception": false,
     "start_time": "2025-06-16T13:03:26.554020",
     "status": "completed"
    },
    "tags": []
   },
   "outputs": [],
   "source": [
    "X, y = load_diabetes(return_X_y=True)"
   ]
  },
  {
   "cell_type": "code",
   "execution_count": 3,
   "id": "568ab81c",
   "metadata": {
    "execution": {
     "iopub.execute_input": "2025-06-16T13:03:26.584527Z",
     "iopub.status.busy": "2025-06-16T13:03:26.584186Z",
     "iopub.status.idle": "2025-06-16T13:03:26.709950Z",
     "shell.execute_reply": "2025-06-16T13:03:26.708953Z"
    },
    "papermill": {
     "duration": 0.131156,
     "end_time": "2025-06-16T13:03:26.711641",
     "exception": false,
     "start_time": "2025-06-16T13:03:26.580485",
     "status": "completed"
    },
    "tags": []
   },
   "outputs": [],
   "source": [
    "from sklearn.model_selection import train_test_split"
   ]
  },
  {
   "cell_type": "code",
   "execution_count": 4,
   "id": "16d45256",
   "metadata": {
    "execution": {
     "iopub.execute_input": "2025-06-16T13:03:26.719009Z",
     "iopub.status.busy": "2025-06-16T13:03:26.718638Z",
     "iopub.status.idle": "2025-06-16T13:03:26.725302Z",
     "shell.execute_reply": "2025-06-16T13:03:26.723915Z"
    },
    "papermill": {
     "duration": 0.012732,
     "end_time": "2025-06-16T13:03:26.727302",
     "exception": false,
     "start_time": "2025-06-16T13:03:26.714570",
     "status": "completed"
    },
    "tags": []
   },
   "outputs": [],
   "source": [
    "X_train, X_test, y_train, y_test = train_test_split(X, y, random_state=2, test_size=0.2)"
   ]
  },
  {
   "cell_type": "markdown",
   "id": "337eaad2",
   "metadata": {
    "papermill": {
     "duration": 0.002556,
     "end_time": "2025-06-16T13:03:26.732791",
     "exception": false,
     "start_time": "2025-06-16T13:03:26.730235",
     "status": "completed"
    },
    "tags": []
   },
   "source": [
    "## Making our own Class"
   ]
  },
  {
   "cell_type": "code",
   "execution_count": 5,
   "id": "a6494fec",
   "metadata": {
    "execution": {
     "iopub.execute_input": "2025-06-16T13:03:26.739499Z",
     "iopub.status.busy": "2025-06-16T13:03:26.739158Z",
     "iopub.status.idle": "2025-06-16T13:03:26.744018Z",
     "shell.execute_reply": "2025-06-16T13:03:26.743098Z"
    },
    "papermill": {
     "duration": 0.010354,
     "end_time": "2025-06-16T13:03:26.745761",
     "exception": false,
     "start_time": "2025-06-16T13:03:26.735407",
     "status": "completed"
    },
    "tags": []
   },
   "outputs": [],
   "source": [
    "import numpy as np"
   ]
  },
  {
   "cell_type": "code",
   "execution_count": 6,
   "id": "6f69ff72",
   "metadata": {
    "execution": {
     "iopub.execute_input": "2025-06-16T13:03:26.753176Z",
     "iopub.status.busy": "2025-06-16T13:03:26.752802Z",
     "iopub.status.idle": "2025-06-16T13:03:26.761469Z",
     "shell.execute_reply": "2025-06-16T13:03:26.760660Z"
    },
    "papermill": {
     "duration": 0.014177,
     "end_time": "2025-06-16T13:03:26.763168",
     "exception": false,
     "start_time": "2025-06-16T13:03:26.748991",
     "status": "completed"
    },
    "tags": []
   },
   "outputs": [],
   "source": [
    "class SGDRegressor:\n",
    "    def __init__(self, learning_rate, epochs):\n",
    "        self.coef_ = None\n",
    "        self.intercept_ = None\n",
    "        self.lr = learning_rate\n",
    "        self.epochs = epochs\n",
    "    def fit(self, X_train, y_train):\n",
    "        # init your coef and intercept\n",
    "        self.intercept_ = 0\n",
    "        self.coef_ = np.ones(X_train.shape[1])\n",
    "\n",
    "        for i in range(self.epochs):\n",
    "            for j in range(X_train.shape[0]):\n",
    "                \n",
    "                idx = np.random.randint(0,X_train.shape[0]) # random index\n",
    "                # prediction for that particular index\n",
    "                y_hat = np.dot(X_train[idx], self.coef_) + self.intercept_ # it will be a single number instead of matrix\n",
    "                intercept_der = -2 * (y_train[idx] - y_hat)\n",
    "                self.intercept_ = self.intercept_ - (self.lr * intercept_der)\n",
    "\n",
    "                coef_der = -2 * np.dot((y_train[idx] - y_hat), X_train[idx])\n",
    "                self.coef_ = self.coef_ - (self.lr * coef_der)\n",
    "                \n",
    "\n",
    "        print(self.intercept_, self.coef_)\n",
    "    def predict(self, X_test):\n",
    "        return np.dot(X_test, self.coef_) + self.intercept_"
   ]
  },
  {
   "cell_type": "code",
   "execution_count": 7,
   "id": "839ccf3e",
   "metadata": {
    "execution": {
     "iopub.execute_input": "2025-06-16T13:03:26.770225Z",
     "iopub.status.busy": "2025-06-16T13:03:26.769911Z",
     "iopub.status.idle": "2025-06-16T13:03:26.774927Z",
     "shell.execute_reply": "2025-06-16T13:03:26.773745Z"
    },
    "papermill": {
     "duration": 0.011153,
     "end_time": "2025-06-16T13:03:26.777180",
     "exception": false,
     "start_time": "2025-06-16T13:03:26.766027",
     "status": "completed"
    },
    "tags": []
   },
   "outputs": [],
   "source": [
    "SGD = SGDRegressor(learning_rate=0.1, epochs=150)"
   ]
  },
  {
   "cell_type": "code",
   "execution_count": 8,
   "id": "ce888613",
   "metadata": {
    "execution": {
     "iopub.execute_input": "2025-06-16T13:03:26.788234Z",
     "iopub.status.busy": "2025-06-16T13:03:26.787763Z",
     "iopub.status.idle": "2025-06-16T13:03:27.561406Z",
     "shell.execute_reply": "2025-06-16T13:03:27.560334Z"
    },
    "papermill": {
     "duration": 0.7802,
     "end_time": "2025-06-16T13:03:27.562815",
     "exception": false,
     "start_time": "2025-06-16T13:03:26.782615",
     "status": "completed"
    },
    "tags": []
   },
   "outputs": [
    {
     "name": "stdout",
     "output_type": "stream",
     "text": [
      "130.96041288891968 [ -15.81719154 -189.18854716  514.60441102  358.29926652 -194.8006868\n",
      "  -25.62781093 -161.01267529   51.66196922  582.30386102   50.1061003 ]\n"
     ]
    }
   ],
   "source": [
    "SGD.fit(X_train, y_train)"
   ]
  },
  {
   "cell_type": "code",
   "execution_count": 9,
   "id": "15d6eb42",
   "metadata": {
    "execution": {
     "iopub.execute_input": "2025-06-16T13:03:27.569731Z",
     "iopub.status.busy": "2025-06-16T13:03:27.569447Z",
     "iopub.status.idle": "2025-06-16T13:03:27.575084Z",
     "shell.execute_reply": "2025-06-16T13:03:27.573940Z"
    },
    "papermill": {
     "duration": 0.010969,
     "end_time": "2025-06-16T13:03:27.576737",
     "exception": false,
     "start_time": "2025-06-16T13:03:27.565768",
     "status": "completed"
    },
    "tags": []
   },
   "outputs": [],
   "source": [
    "y_pred = SGD.predict(X_test)"
   ]
  },
  {
   "cell_type": "code",
   "execution_count": 10,
   "id": "55813098",
   "metadata": {
    "execution": {
     "iopub.execute_input": "2025-06-16T13:03:27.583641Z",
     "iopub.status.busy": "2025-06-16T13:03:27.583369Z",
     "iopub.status.idle": "2025-06-16T13:03:27.588616Z",
     "shell.execute_reply": "2025-06-16T13:03:27.587605Z"
    },
    "papermill": {
     "duration": 0.010752,
     "end_time": "2025-06-16T13:03:27.590406",
     "exception": false,
     "start_time": "2025-06-16T13:03:27.579654",
     "status": "completed"
    },
    "tags": []
   },
   "outputs": [],
   "source": [
    "from sklearn.metrics import r2_score"
   ]
  },
  {
   "cell_type": "code",
   "execution_count": 11,
   "id": "c44d21a8",
   "metadata": {
    "execution": {
     "iopub.execute_input": "2025-06-16T13:03:27.598216Z",
     "iopub.status.busy": "2025-06-16T13:03:27.597795Z",
     "iopub.status.idle": "2025-06-16T13:03:27.606193Z",
     "shell.execute_reply": "2025-06-16T13:03:27.605179Z"
    },
    "papermill": {
     "duration": 0.014383,
     "end_time": "2025-06-16T13:03:27.607906",
     "exception": false,
     "start_time": "2025-06-16T13:03:27.593523",
     "status": "completed"
    },
    "tags": []
   },
   "outputs": [
    {
     "data": {
      "text/plain": [
       "0.35137529253626787"
      ]
     },
     "execution_count": 11,
     "metadata": {},
     "output_type": "execute_result"
    }
   ],
   "source": [
    "r2_score(y_test, y_pred)"
   ]
  },
  {
   "cell_type": "code",
   "execution_count": null,
   "id": "708ec88a",
   "metadata": {
    "papermill": {
     "duration": 0.002614,
     "end_time": "2025-06-16T13:03:27.613546",
     "exception": false,
     "start_time": "2025-06-16T13:03:27.610932",
     "status": "completed"
    },
    "tags": []
   },
   "outputs": [],
   "source": []
  }
 ],
 "metadata": {
  "kaggle": {
   "accelerator": "none",
   "dataSources": [],
   "dockerImageVersionId": 31040,
   "isGpuEnabled": false,
   "isInternetEnabled": true,
   "language": "python",
   "sourceType": "notebook"
  },
  "kernelspec": {
   "display_name": "Python 3",
   "language": "python",
   "name": "python3"
  },
  "language_info": {
   "codemirror_mode": {
    "name": "ipython",
    "version": 3
   },
   "file_extension": ".py",
   "mimetype": "text/x-python",
   "name": "python",
   "nbconvert_exporter": "python",
   "pygments_lexer": "ipython3",
   "version": "3.11.11"
  },
  "papermill": {
   "default_parameters": {},
   "duration": 8.765944,
   "end_time": "2025-06-16T13:03:28.238467",
   "environment_variables": {},
   "exception": null,
   "input_path": "__notebook__.ipynb",
   "output_path": "__notebook__.ipynb",
   "parameters": {},
   "start_time": "2025-06-16T13:03:19.472523",
   "version": "2.6.0"
  }
 },
 "nbformat": 4,
 "nbformat_minor": 5
}
