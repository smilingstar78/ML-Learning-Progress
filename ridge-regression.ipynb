{
 "cells": [
  {
   "cell_type": "code",
   "execution_count": 1,
   "id": "d09a0c3b",
   "metadata": {
    "_cell_guid": "b1076dfc-b9ad-4769-8c92-a6c4dae69d19",
    "_uuid": "8f2839f25d086af736a60e9eeb907d3b93b6e0e5",
    "execution": {
     "iopub.execute_input": "2025-06-18T13:50:43.224658Z",
     "iopub.status.busy": "2025-06-18T13:50:43.223745Z",
     "iopub.status.idle": "2025-06-18T13:50:45.297862Z",
     "shell.execute_reply": "2025-06-18T13:50:45.296940Z"
    },
    "papermill": {
     "duration": 2.0809,
     "end_time": "2025-06-18T13:50:45.299493",
     "exception": false,
     "start_time": "2025-06-18T13:50:43.218593",
     "status": "completed"
    },
    "tags": []
   },
   "outputs": [],
   "source": [
    "from sklearn.datasets import load_diabetes\n",
    "from sklearn.model_selection import train_test_split\n",
    "from sklearn.linear_model import Ridge\n",
    "import numpy as np\n",
    "from sklearn.metrics import r2_score"
   ]
  },
  {
   "cell_type": "code",
   "execution_count": 2,
   "id": "a2df99f2",
   "metadata": {
    "execution": {
     "iopub.execute_input": "2025-06-18T13:50:45.311105Z",
     "iopub.status.busy": "2025-06-18T13:50:45.310671Z",
     "iopub.status.idle": "2025-06-18T13:50:45.326295Z",
     "shell.execute_reply": "2025-06-18T13:50:45.325383Z"
    },
    "papermill": {
     "duration": 0.022347,
     "end_time": "2025-06-18T13:50:45.327981",
     "exception": false,
     "start_time": "2025-06-18T13:50:45.305634",
     "status": "completed"
    },
    "tags": []
   },
   "outputs": [],
   "source": [
    "X, y = load_diabetes(return_X_y=True)"
   ]
  },
  {
   "cell_type": "code",
   "execution_count": 3,
   "id": "be3a95f1",
   "metadata": {
    "execution": {
     "iopub.execute_input": "2025-06-18T13:50:45.336756Z",
     "iopub.status.busy": "2025-06-18T13:50:45.336443Z",
     "iopub.status.idle": "2025-06-18T13:50:45.342181Z",
     "shell.execute_reply": "2025-06-18T13:50:45.341385Z"
    },
    "papermill": {
     "duration": 0.012042,
     "end_time": "2025-06-18T13:50:45.343748",
     "exception": false,
     "start_time": "2025-06-18T13:50:45.331706",
     "status": "completed"
    },
    "tags": []
   },
   "outputs": [],
   "source": [
    "X_train, X_test, y_train, y_test = train_test_split(X, y, random_state=4, test_size=0.2)"
   ]
  },
  {
   "cell_type": "markdown",
   "id": "84d9f7fb",
   "metadata": {
    "execution": {
     "iopub.execute_input": "2025-06-18T13:31:45.603999Z",
     "iopub.status.busy": "2025-06-18T13:31:45.603687Z",
     "iopub.status.idle": "2025-06-18T13:31:45.615726Z",
     "shell.execute_reply": "2025-06-18T13:31:45.614115Z",
     "shell.execute_reply.started": "2025-06-18T13:31:45.603976Z"
    },
    "papermill": {
     "duration": 0.002957,
     "end_time": "2025-06-18T13:50:45.349896",
     "exception": false,
     "start_time": "2025-06-18T13:50:45.346939",
     "status": "completed"
    },
    "tags": []
   },
   "source": [
    "# Making our own Class"
   ]
  },
  {
   "cell_type": "code",
   "execution_count": 4,
   "id": "acd5e143",
   "metadata": {
    "execution": {
     "iopub.execute_input": "2025-06-18T13:50:45.358121Z",
     "iopub.status.busy": "2025-06-18T13:50:45.357262Z",
     "iopub.status.idle": "2025-06-18T13:50:45.364484Z",
     "shell.execute_reply": "2025-06-18T13:50:45.363737Z"
    },
    "papermill": {
     "duration": 0.01279,
     "end_time": "2025-06-18T13:50:45.365849",
     "exception": false,
     "start_time": "2025-06-18T13:50:45.353059",
     "status": "completed"
    },
    "tags": []
   },
   "outputs": [],
   "source": [
    "class myRidge:\n",
    "    def __init__(self, alpha=0.1):\n",
    "        self.alpha = alpha\n",
    "        self.coef_ = None\n",
    "        self.intercept_ = None\n",
    "    def fit(self, X_train, y_train):\n",
    "        X_train = np.insert(X_train, 0, 1, axis=1)\n",
    "        I = np.identity(X_train.shape[1])\n",
    "        result = np.linalg.inv(np.dot(X_train.T, X_train) + self.alpha * I).dot(X_train.T).dot(y_train)\n",
    "        self.coef_ = result[1:]\n",
    "        self.intercept_ = result[0]\n",
    "        print(self.intercept_, self.coef_)\n",
    "    def predict(self, X_test):\n",
    "        return np.dot(X_test, self.coef_) + self.intercept_"
   ]
  },
  {
   "cell_type": "code",
   "execution_count": 5,
   "id": "9dba78c4",
   "metadata": {
    "execution": {
     "iopub.execute_input": "2025-06-18T13:50:45.373304Z",
     "iopub.status.busy": "2025-06-18T13:50:45.372994Z",
     "iopub.status.idle": "2025-06-18T13:50:45.377265Z",
     "shell.execute_reply": "2025-06-18T13:50:45.376572Z"
    },
    "papermill": {
     "duration": 0.009638,
     "end_time": "2025-06-18T13:50:45.378675",
     "exception": false,
     "start_time": "2025-06-18T13:50:45.369037",
     "status": "completed"
    },
    "tags": []
   },
   "outputs": [],
   "source": [
    "myR = myRidge(alpha=0.001)"
   ]
  },
  {
   "cell_type": "code",
   "execution_count": 6,
   "id": "638037c2",
   "metadata": {
    "execution": {
     "iopub.execute_input": "2025-06-18T13:50:45.388273Z",
     "iopub.status.busy": "2025-06-18T13:50:45.387446Z",
     "iopub.status.idle": "2025-06-18T13:50:45.446176Z",
     "shell.execute_reply": "2025-06-18T13:50:45.445251Z"
    },
    "papermill": {
     "duration": 0.066752,
     "end_time": "2025-06-18T13:50:45.448723",
     "exception": false,
     "start_time": "2025-06-18T13:50:45.381971",
     "status": "completed"
    },
    "tags": []
   },
   "outputs": [
    {
     "name": "stdout",
     "output_type": "stream",
     "text": [
      "151.10155372879763 [  34.52221704 -290.84113208  482.40190419  368.06803516 -852.44522831\n",
      "  501.58881846  180.10910096  270.76226221  759.73393574   37.49165169]\n"
     ]
    }
   ],
   "source": [
    "myR.fit(X_train, y_train)"
   ]
  },
  {
   "cell_type": "code",
   "execution_count": 7,
   "id": "0751fdd8",
   "metadata": {
    "execution": {
     "iopub.execute_input": "2025-06-18T13:50:45.459387Z",
     "iopub.status.busy": "2025-06-18T13:50:45.459035Z",
     "iopub.status.idle": "2025-06-18T13:50:45.463538Z",
     "shell.execute_reply": "2025-06-18T13:50:45.462586Z"
    },
    "papermill": {
     "duration": 0.01191,
     "end_time": "2025-06-18T13:50:45.465135",
     "exception": false,
     "start_time": "2025-06-18T13:50:45.453225",
     "status": "completed"
    },
    "tags": []
   },
   "outputs": [],
   "source": [
    "y_pred = myR.predict(X_test)"
   ]
  },
  {
   "cell_type": "code",
   "execution_count": 8,
   "id": "4bd8d979",
   "metadata": {
    "execution": {
     "iopub.execute_input": "2025-06-18T13:50:45.473553Z",
     "iopub.status.busy": "2025-06-18T13:50:45.473165Z",
     "iopub.status.idle": "2025-06-18T13:50:45.481479Z",
     "shell.execute_reply": "2025-06-18T13:50:45.480421Z"
    },
    "papermill": {
     "duration": 0.014309,
     "end_time": "2025-06-18T13:50:45.483115",
     "exception": false,
     "start_time": "2025-06-18T13:50:45.468806",
     "status": "completed"
    },
    "tags": []
   },
   "outputs": [
    {
     "data": {
      "text/plain": [
       "0.4625002162120828"
      ]
     },
     "execution_count": 8,
     "metadata": {},
     "output_type": "execute_result"
    }
   ],
   "source": [
    "r2_score(y_test, y_pred)"
   ]
  },
  {
   "cell_type": "markdown",
   "id": "24e8254f",
   "metadata": {
    "papermill": {
     "duration": 0.00315,
     "end_time": "2025-06-18T13:50:45.489688",
     "exception": false,
     "start_time": "2025-06-18T13:50:45.486538",
     "status": "completed"
    },
    "tags": []
   },
   "source": [
    "**THIS CLASS IS 'GENERAL' ONE FOR LITERALLY N NUM OF COLS..**"
   ]
  },
  {
   "cell_type": "markdown",
   "id": "8156b462",
   "metadata": {
    "papermill": {
     "duration": 0.002882,
     "end_time": "2025-06-18T13:50:45.495791",
     "exception": false,
     "start_time": "2025-06-18T13:50:45.492909",
     "status": "completed"
    },
    "tags": []
   },
   "source": [
    "# Using SKLearn Class"
   ]
  },
  {
   "cell_type": "code",
   "execution_count": 9,
   "id": "bb4e4826",
   "metadata": {
    "execution": {
     "iopub.execute_input": "2025-06-18T13:50:45.503126Z",
     "iopub.status.busy": "2025-06-18T13:50:45.502810Z",
     "iopub.status.idle": "2025-06-18T13:50:45.507036Z",
     "shell.execute_reply": "2025-06-18T13:50:45.506178Z"
    },
    "papermill": {
     "duration": 0.009967,
     "end_time": "2025-06-18T13:50:45.508820",
     "exception": false,
     "start_time": "2025-06-18T13:50:45.498853",
     "status": "completed"
    },
    "tags": []
   },
   "outputs": [],
   "source": [
    "rr = Ridge(alpha=0.01)"
   ]
  },
  {
   "cell_type": "code",
   "execution_count": 10,
   "id": "03cb0523",
   "metadata": {
    "execution": {
     "iopub.execute_input": "2025-06-18T13:50:45.517518Z",
     "iopub.status.busy": "2025-06-18T13:50:45.516851Z",
     "iopub.status.idle": "2025-06-18T13:50:45.550458Z",
     "shell.execute_reply": "2025-06-18T13:50:45.549302Z"
    },
    "papermill": {
     "duration": 0.040245,
     "end_time": "2025-06-18T13:50:45.552568",
     "exception": false,
     "start_time": "2025-06-18T13:50:45.512323",
     "status": "completed"
    },
    "tags": []
   },
   "outputs": [
    {
     "data": {
      "text/html": [
       "<style>#sk-container-id-1 {color: black;background-color: white;}#sk-container-id-1 pre{padding: 0;}#sk-container-id-1 div.sk-toggleable {background-color: white;}#sk-container-id-1 label.sk-toggleable__label {cursor: pointer;display: block;width: 100%;margin-bottom: 0;padding: 0.3em;box-sizing: border-box;text-align: center;}#sk-container-id-1 label.sk-toggleable__label-arrow:before {content: \"▸\";float: left;margin-right: 0.25em;color: #696969;}#sk-container-id-1 label.sk-toggleable__label-arrow:hover:before {color: black;}#sk-container-id-1 div.sk-estimator:hover label.sk-toggleable__label-arrow:before {color: black;}#sk-container-id-1 div.sk-toggleable__content {max-height: 0;max-width: 0;overflow: hidden;text-align: left;background-color: #f0f8ff;}#sk-container-id-1 div.sk-toggleable__content pre {margin: 0.2em;color: black;border-radius: 0.25em;background-color: #f0f8ff;}#sk-container-id-1 input.sk-toggleable__control:checked~div.sk-toggleable__content {max-height: 200px;max-width: 100%;overflow: auto;}#sk-container-id-1 input.sk-toggleable__control:checked~label.sk-toggleable__label-arrow:before {content: \"▾\";}#sk-container-id-1 div.sk-estimator input.sk-toggleable__control:checked~label.sk-toggleable__label {background-color: #d4ebff;}#sk-container-id-1 div.sk-label input.sk-toggleable__control:checked~label.sk-toggleable__label {background-color: #d4ebff;}#sk-container-id-1 input.sk-hidden--visually {border: 0;clip: rect(1px 1px 1px 1px);clip: rect(1px, 1px, 1px, 1px);height: 1px;margin: -1px;overflow: hidden;padding: 0;position: absolute;width: 1px;}#sk-container-id-1 div.sk-estimator {font-family: monospace;background-color: #f0f8ff;border: 1px dotted black;border-radius: 0.25em;box-sizing: border-box;margin-bottom: 0.5em;}#sk-container-id-1 div.sk-estimator:hover {background-color: #d4ebff;}#sk-container-id-1 div.sk-parallel-item::after {content: \"\";width: 100%;border-bottom: 1px solid gray;flex-grow: 1;}#sk-container-id-1 div.sk-label:hover label.sk-toggleable__label {background-color: #d4ebff;}#sk-container-id-1 div.sk-serial::before {content: \"\";position: absolute;border-left: 1px solid gray;box-sizing: border-box;top: 0;bottom: 0;left: 50%;z-index: 0;}#sk-container-id-1 div.sk-serial {display: flex;flex-direction: column;align-items: center;background-color: white;padding-right: 0.2em;padding-left: 0.2em;position: relative;}#sk-container-id-1 div.sk-item {position: relative;z-index: 1;}#sk-container-id-1 div.sk-parallel {display: flex;align-items: stretch;justify-content: center;background-color: white;position: relative;}#sk-container-id-1 div.sk-item::before, #sk-container-id-1 div.sk-parallel-item::before {content: \"\";position: absolute;border-left: 1px solid gray;box-sizing: border-box;top: 0;bottom: 0;left: 50%;z-index: -1;}#sk-container-id-1 div.sk-parallel-item {display: flex;flex-direction: column;z-index: 1;position: relative;background-color: white;}#sk-container-id-1 div.sk-parallel-item:first-child::after {align-self: flex-end;width: 50%;}#sk-container-id-1 div.sk-parallel-item:last-child::after {align-self: flex-start;width: 50%;}#sk-container-id-1 div.sk-parallel-item:only-child::after {width: 0;}#sk-container-id-1 div.sk-dashed-wrapped {border: 1px dashed gray;margin: 0 0.4em 0.5em 0.4em;box-sizing: border-box;padding-bottom: 0.4em;background-color: white;}#sk-container-id-1 div.sk-label label {font-family: monospace;font-weight: bold;display: inline-block;line-height: 1.2em;}#sk-container-id-1 div.sk-label-container {text-align: center;}#sk-container-id-1 div.sk-container {/* jupyter's `normalize.less` sets `[hidden] { display: none; }` but bootstrap.min.css set `[hidden] { display: none !important; }` so we also need the `!important` here to be able to override the default hidden behavior on the sphinx rendered scikit-learn.org. See: https://github.com/scikit-learn/scikit-learn/issues/21755 */display: inline-block !important;position: relative;}#sk-container-id-1 div.sk-text-repr-fallback {display: none;}</style><div id=\"sk-container-id-1\" class=\"sk-top-container\"><div class=\"sk-text-repr-fallback\"><pre>Ridge(alpha=0.01)</pre><b>In a Jupyter environment, please rerun this cell to show the HTML representation or trust the notebook. <br />On GitHub, the HTML representation is unable to render, please try loading this page with nbviewer.org.</b></div><div class=\"sk-container\" hidden><div class=\"sk-item\"><div class=\"sk-estimator sk-toggleable\"><input class=\"sk-toggleable__control sk-hidden--visually\" id=\"sk-estimator-id-1\" type=\"checkbox\" checked><label for=\"sk-estimator-id-1\" class=\"sk-toggleable__label sk-toggleable__label-arrow\">Ridge</label><div class=\"sk-toggleable__content\"><pre>Ridge(alpha=0.01)</pre></div></div></div></div></div>"
      ],
      "text/plain": [
       "Ridge(alpha=0.01)"
      ]
     },
     "execution_count": 10,
     "metadata": {},
     "output_type": "execute_result"
    }
   ],
   "source": [
    "rr.fit(X_train, y_train)"
   ]
  },
  {
   "cell_type": "code",
   "execution_count": 11,
   "id": "048691fe",
   "metadata": {
    "execution": {
     "iopub.execute_input": "2025-06-18T13:50:45.563191Z",
     "iopub.status.busy": "2025-06-18T13:50:45.562795Z",
     "iopub.status.idle": "2025-06-18T13:50:45.567708Z",
     "shell.execute_reply": "2025-06-18T13:50:45.566545Z"
    },
    "papermill": {
     "duration": 0.011301,
     "end_time": "2025-06-18T13:50:45.569395",
     "exception": false,
     "start_time": "2025-06-18T13:50:45.558094",
     "status": "completed"
    },
    "tags": []
   },
   "outputs": [],
   "source": [
    "y_pred1 = rr.predict(X_test)"
   ]
  },
  {
   "cell_type": "code",
   "execution_count": 12,
   "id": "0b54680b",
   "metadata": {
    "execution": {
     "iopub.execute_input": "2025-06-18T13:50:45.582914Z",
     "iopub.status.busy": "2025-06-18T13:50:45.581918Z",
     "iopub.status.idle": "2025-06-18T13:50:45.589609Z",
     "shell.execute_reply": "2025-06-18T13:50:45.588749Z"
    },
    "papermill": {
     "duration": 0.017862,
     "end_time": "2025-06-18T13:50:45.592243",
     "exception": false,
     "start_time": "2025-06-18T13:50:45.574381",
     "status": "completed"
    },
    "tags": []
   },
   "outputs": [
    {
     "data": {
      "text/plain": [
       "0.46671365172206947"
      ]
     },
     "execution_count": 12,
     "metadata": {},
     "output_type": "execute_result"
    }
   ],
   "source": [
    "r2_score(y_test ,y_pred1)"
   ]
  },
  {
   "cell_type": "markdown",
   "id": "9e92969b",
   "metadata": {
    "papermill": {
     "duration": 0.003364,
     "end_time": "2025-06-18T13:50:45.602624",
     "exception": false,
     "start_time": "2025-06-18T13:50:45.599260",
     "status": "completed"
    },
    "tags": []
   },
   "source": [
    "**Thank you for Reading!!!**"
   ]
  },
  {
   "cell_type": "code",
   "execution_count": null,
   "id": "64494168",
   "metadata": {
    "papermill": {
     "duration": 0.005946,
     "end_time": "2025-06-18T13:50:45.614317",
     "exception": false,
     "start_time": "2025-06-18T13:50:45.608371",
     "status": "completed"
    },
    "tags": []
   },
   "outputs": [],
   "source": []
  }
 ],
 "metadata": {
  "kaggle": {
   "accelerator": "none",
   "dataSources": [],
   "dockerImageVersionId": 31040,
   "isGpuEnabled": false,
   "isInternetEnabled": true,
   "language": "python",
   "sourceType": "notebook"
  },
  "kernelspec": {
   "display_name": "Python 3",
   "language": "python",
   "name": "python3"
  },
  "language_info": {
   "codemirror_mode": {
    "name": "ipython",
    "version": 3
   },
   "file_extension": ".py",
   "mimetype": "text/x-python",
   "name": "python",
   "nbconvert_exporter": "python",
   "pygments_lexer": "ipython3",
   "version": "3.11.11"
  },
  "papermill": {
   "default_parameters": {},
   "duration": 8.068997,
   "end_time": "2025-06-18T13:50:46.241998",
   "environment_variables": {},
   "exception": null,
   "input_path": "__notebook__.ipynb",
   "output_path": "__notebook__.ipynb",
   "parameters": {},
   "start_time": "2025-06-18T13:50:38.173001",
   "version": "2.6.0"
  }
 },
 "nbformat": 4,
 "nbformat_minor": 5
}
