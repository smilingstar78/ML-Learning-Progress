{
 "cells": [
  {
   "cell_type": "code",
   "execution_count": 1,
   "id": "74d3c9e0",
   "metadata": {
    "_cell_guid": "b1076dfc-b9ad-4769-8c92-a6c4dae69d19",
    "_uuid": "8f2839f25d086af736a60e9eeb907d3b93b6e0e5",
    "execution": {
     "iopub.execute_input": "2025-06-16T19:04:16.957149Z",
     "iopub.status.busy": "2025-06-16T19:04:16.956712Z",
     "iopub.status.idle": "2025-06-16T19:04:18.684949Z",
     "shell.execute_reply": "2025-06-16T19:04:18.683977Z"
    },
    "papermill": {
     "duration": 1.735195,
     "end_time": "2025-06-16T19:04:18.686662",
     "exception": false,
     "start_time": "2025-06-16T19:04:16.951467",
     "status": "completed"
    },
    "tags": []
   },
   "outputs": [],
   "source": [
    "from sklearn.datasets import load_diabetes\n",
    "from sklearn.model_selection import train_test_split\n",
    "from sklearn.metrics import r2_score\n",
    "import numpy as np\n",
    "import random"
   ]
  },
  {
   "cell_type": "code",
   "execution_count": 2,
   "id": "c5e15f76",
   "metadata": {
    "execution": {
     "iopub.execute_input": "2025-06-16T19:04:18.696405Z",
     "iopub.status.busy": "2025-06-16T19:04:18.695948Z",
     "iopub.status.idle": "2025-06-16T19:04:18.716641Z",
     "shell.execute_reply": "2025-06-16T19:04:18.715628Z"
    },
    "papermill": {
     "duration": 0.026981,
     "end_time": "2025-06-16T19:04:18.718385",
     "exception": false,
     "start_time": "2025-06-16T19:04:18.691404",
     "status": "completed"
    },
    "tags": []
   },
   "outputs": [],
   "source": [
    "X,y = load_diabetes(return_X_y=True)"
   ]
  },
  {
   "cell_type": "code",
   "execution_count": 3,
   "id": "dfa97a3c",
   "metadata": {
    "execution": {
     "iopub.execute_input": "2025-06-16T19:04:18.726307Z",
     "iopub.status.busy": "2025-06-16T19:04:18.726019Z",
     "iopub.status.idle": "2025-06-16T19:04:18.731339Z",
     "shell.execute_reply": "2025-06-16T19:04:18.730585Z"
    },
    "papermill": {
     "duration": 0.011171,
     "end_time": "2025-06-16T19:04:18.732934",
     "exception": false,
     "start_time": "2025-06-16T19:04:18.721763",
     "status": "completed"
    },
    "tags": []
   },
   "outputs": [],
   "source": [
    "X_train, X_test, y_train, y_test = train_test_split(X,y,random_state=2, test_size=0.2)"
   ]
  },
  {
   "cell_type": "markdown",
   "id": "423b36eb",
   "metadata": {
    "papermill": {
     "duration": 0.002981,
     "end_time": "2025-06-16T19:04:18.739493",
     "exception": false,
     "start_time": "2025-06-16T19:04:18.736512",
     "status": "completed"
    },
    "tags": []
   },
   "source": [
    "## Making Our Own Class"
   ]
  },
  {
   "cell_type": "code",
   "execution_count": 4,
   "id": "3e0aeb47",
   "metadata": {
    "execution": {
     "iopub.execute_input": "2025-06-16T19:04:18.747285Z",
     "iopub.status.busy": "2025-06-16T19:04:18.746978Z",
     "iopub.status.idle": "2025-06-16T19:04:18.754517Z",
     "shell.execute_reply": "2025-06-16T19:04:18.753688Z"
    },
    "papermill": {
     "duration": 0.013316,
     "end_time": "2025-06-16T19:04:18.756034",
     "exception": false,
     "start_time": "2025-06-16T19:04:18.742718",
     "status": "completed"
    },
    "tags": []
   },
   "outputs": [],
   "source": [
    "class MBGD:\n",
    "    def __init__(self, batch_size, learning_rate, epochs):\n",
    "        self.intercept_ = None\n",
    "        self.coef_ = None\n",
    "        self.lr = learning_rate\n",
    "        self.epochs = epochs\n",
    "        self.batch_size = batch_size\n",
    "    def fit(self, X_train, y_train):\n",
    "        self.intercept_ = 0\n",
    "        self.coef_ = np.ones(X_train.shape[1])\n",
    "        for i in range(self.epochs):\n",
    "            for j in range(int(X_train.shape[0]/self.batch_size)):\n",
    "                idx = random.sample(range(X_train.shape[0]), self.batch_size)\n",
    "                y_hat = np.dot(X_train[idx], self.coef_) + self.intercept_\n",
    "                intercept_der = -2 * np.mean(y_train[idx] - y_hat)\n",
    "                self.intercept_ = self.intercept_ - (self.lr * intercept_der)\n",
    "                coef_der = -2 * np.dot((y_train[idx] - y_hat), X_train[idx])\n",
    "                self.coef_ = self.coef_ - (self.lr * coef_der)\n",
    "        print(self.coef_, self.intercept_)\n",
    "    def predict(self, X_test):\n",
    "        return np.dot(X_test, self.coef_) + self.intercept_"
   ]
  },
  {
   "cell_type": "code",
   "execution_count": 5,
   "id": "aec0356e",
   "metadata": {
    "execution": {
     "iopub.execute_input": "2025-06-16T19:04:18.763525Z",
     "iopub.status.busy": "2025-06-16T19:04:18.763205Z",
     "iopub.status.idle": "2025-06-16T19:04:18.767730Z",
     "shell.execute_reply": "2025-06-16T19:04:18.766850Z"
    },
    "papermill": {
     "duration": 0.009885,
     "end_time": "2025-06-16T19:04:18.769112",
     "exception": false,
     "start_time": "2025-06-16T19:04:18.759227",
     "status": "completed"
    },
    "tags": []
   },
   "outputs": [],
   "source": [
    "mbgd = MBGD(batch_size=10, learning_rate=0.01, epochs=100)"
   ]
  },
  {
   "cell_type": "code",
   "execution_count": 6,
   "id": "386c5c34",
   "metadata": {
    "execution": {
     "iopub.execute_input": "2025-06-16T19:04:18.777221Z",
     "iopub.status.busy": "2025-06-16T19:04:18.776305Z",
     "iopub.status.idle": "2025-06-16T19:04:18.934490Z",
     "shell.execute_reply": "2025-06-16T19:04:18.933158Z"
    },
    "papermill": {
     "duration": 0.163642,
     "end_time": "2025-06-16T19:04:18.935914",
     "exception": false,
     "start_time": "2025-06-16T19:04:18.772272",
     "status": "completed"
    },
    "tags": []
   },
   "outputs": [
    {
     "name": "stdout",
     "output_type": "stream",
     "text": [
      "[  18.78684045 -147.94387978  456.69825338  302.83030417  -17.25614515\n",
      "  -88.63909346 -185.53063632  116.98339921  416.66960492  111.49617819] 152.18155063498764\n"
     ]
    }
   ],
   "source": [
    "mbgd.fit(X_train, y_train)"
   ]
  },
  {
   "cell_type": "code",
   "execution_count": 7,
   "id": "2204b67f",
   "metadata": {
    "execution": {
     "iopub.execute_input": "2025-06-16T19:04:18.943960Z",
     "iopub.status.busy": "2025-06-16T19:04:18.943607Z",
     "iopub.status.idle": "2025-06-16T19:04:18.948015Z",
     "shell.execute_reply": "2025-06-16T19:04:18.947209Z"
    },
    "papermill": {
     "duration": 0.010026,
     "end_time": "2025-06-16T19:04:18.949518",
     "exception": false,
     "start_time": "2025-06-16T19:04:18.939492",
     "status": "completed"
    },
    "tags": []
   },
   "outputs": [],
   "source": [
    "y_pred = mbgd.predict(X_test)"
   ]
  },
  {
   "cell_type": "code",
   "execution_count": 8,
   "id": "fdd2790e",
   "metadata": {
    "execution": {
     "iopub.execute_input": "2025-06-16T19:04:18.957217Z",
     "iopub.status.busy": "2025-06-16T19:04:18.956843Z",
     "iopub.status.idle": "2025-06-16T19:04:18.964906Z",
     "shell.execute_reply": "2025-06-16T19:04:18.963999Z"
    },
    "papermill": {
     "duration": 0.013626,
     "end_time": "2025-06-16T19:04:18.966418",
     "exception": false,
     "start_time": "2025-06-16T19:04:18.952792",
     "status": "completed"
    },
    "tags": []
   },
   "outputs": [
    {
     "data": {
      "text/plain": [
       "0.4542445645954386"
      ]
     },
     "execution_count": 8,
     "metadata": {},
     "output_type": "execute_result"
    }
   ],
   "source": [
    "r2_score(y_test, y_pred)"
   ]
  },
  {
   "cell_type": "markdown",
   "id": "0e7bd51f",
   "metadata": {
    "papermill": {
     "duration": 0.003191,
     "end_time": "2025-06-16T19:04:18.972961",
     "exception": false,
     "start_time": "2025-06-16T19:04:18.969770",
     "status": "completed"
    },
    "tags": []
   },
   "source": [
    "## Using Sklearn"
   ]
  },
  {
   "cell_type": "code",
   "execution_count": 9,
   "id": "04575e57",
   "metadata": {
    "execution": {
     "iopub.execute_input": "2025-06-16T19:04:18.981077Z",
     "iopub.status.busy": "2025-06-16T19:04:18.980199Z",
     "iopub.status.idle": "2025-06-16T19:04:19.093861Z",
     "shell.execute_reply": "2025-06-16T19:04:19.092935Z"
    },
    "papermill": {
     "duration": 0.119466,
     "end_time": "2025-06-16T19:04:19.095645",
     "exception": false,
     "start_time": "2025-06-16T19:04:18.976179",
     "status": "completed"
    },
    "tags": []
   },
   "outputs": [],
   "source": [
    "from sklearn.linear_model import SGDRegressor"
   ]
  },
  {
   "cell_type": "code",
   "execution_count": 10,
   "id": "905f130f",
   "metadata": {
    "execution": {
     "iopub.execute_input": "2025-06-16T19:04:19.103542Z",
     "iopub.status.busy": "2025-06-16T19:04:19.103153Z",
     "iopub.status.idle": "2025-06-16T19:04:19.107520Z",
     "shell.execute_reply": "2025-06-16T19:04:19.106677Z"
    },
    "papermill": {
     "duration": 0.009857,
     "end_time": "2025-06-16T19:04:19.108932",
     "exception": false,
     "start_time": "2025-06-16T19:04:19.099075",
     "status": "completed"
    },
    "tags": []
   },
   "outputs": [],
   "source": [
    "sgd = SGDRegressor(learning_rate='constant', eta0=0.2)"
   ]
  },
  {
   "cell_type": "code",
   "execution_count": 11,
   "id": "1722ac7b",
   "metadata": {
    "execution": {
     "iopub.execute_input": "2025-06-16T19:04:19.116947Z",
     "iopub.status.busy": "2025-06-16T19:04:19.116604Z",
     "iopub.status.idle": "2025-06-16T19:04:19.157738Z",
     "shell.execute_reply": "2025-06-16T19:04:19.156705Z"
    },
    "papermill": {
     "duration": 0.047439,
     "end_time": "2025-06-16T19:04:19.159726",
     "exception": false,
     "start_time": "2025-06-16T19:04:19.112287",
     "status": "completed"
    },
    "tags": []
   },
   "outputs": [],
   "source": [
    "batch_size=100\n",
    "for i in range(100):\n",
    "    idx = random.sample(range(X_train.shape[0]), batch_size)\n",
    "    sgd.partial_fit(X_train[idx], y_train[idx])"
   ]
  },
  {
   "cell_type": "code",
   "execution_count": 12,
   "id": "28341958",
   "metadata": {
    "execution": {
     "iopub.execute_input": "2025-06-16T19:04:19.167838Z",
     "iopub.status.busy": "2025-06-16T19:04:19.167524Z",
     "iopub.status.idle": "2025-06-16T19:04:19.172345Z",
     "shell.execute_reply": "2025-06-16T19:04:19.171311Z"
    },
    "papermill": {
     "duration": 0.010794,
     "end_time": "2025-06-16T19:04:19.173964",
     "exception": false,
     "start_time": "2025-06-16T19:04:19.163170",
     "status": "completed"
    },
    "tags": []
   },
   "outputs": [],
   "source": [
    "y_pred = sgd.predict(X_test)"
   ]
  },
  {
   "cell_type": "code",
   "execution_count": 13,
   "id": "3956f536",
   "metadata": {
    "execution": {
     "iopub.execute_input": "2025-06-16T19:04:19.182038Z",
     "iopub.status.busy": "2025-06-16T19:04:19.181729Z",
     "iopub.status.idle": "2025-06-16T19:04:19.188400Z",
     "shell.execute_reply": "2025-06-16T19:04:19.187565Z"
    },
    "papermill": {
     "duration": 0.012476,
     "end_time": "2025-06-16T19:04:19.189802",
     "exception": false,
     "start_time": "2025-06-16T19:04:19.177326",
     "status": "completed"
    },
    "tags": []
   },
   "outputs": [
    {
     "data": {
      "text/plain": [
       "0.44983394984880987"
      ]
     },
     "execution_count": 13,
     "metadata": {},
     "output_type": "execute_result"
    }
   ],
   "source": [
    "r2_score(y_test, y_pred)"
   ]
  },
  {
   "cell_type": "code",
   "execution_count": null,
   "id": "47413a1b",
   "metadata": {
    "papermill": {
     "duration": 0.003052,
     "end_time": "2025-06-16T19:04:19.196289",
     "exception": false,
     "start_time": "2025-06-16T19:04:19.193237",
     "status": "completed"
    },
    "tags": []
   },
   "outputs": [],
   "source": []
  }
 ],
 "metadata": {
  "kaggle": {
   "accelerator": "none",
   "dataSources": [],
   "dockerImageVersionId": 31040,
   "isGpuEnabled": false,
   "isInternetEnabled": true,
   "language": "python",
   "sourceType": "notebook"
  },
  "kernelspec": {
   "display_name": "Python 3",
   "language": "python",
   "name": "python3"
  },
  "language_info": {
   "codemirror_mode": {
    "name": "ipython",
    "version": 3
   },
   "file_extension": ".py",
   "mimetype": "text/x-python",
   "name": "python",
   "nbconvert_exporter": "python",
   "pygments_lexer": "ipython3",
   "version": "3.11.11"
  },
  "papermill": {
   "default_parameters": {},
   "duration": 7.695023,
   "end_time": "2025-06-16T19:04:19.718514",
   "environment_variables": {},
   "exception": null,
   "input_path": "__notebook__.ipynb",
   "output_path": "__notebook__.ipynb",
   "parameters": {},
   "start_time": "2025-06-16T19:04:12.023491",
   "version": "2.6.0"
  }
 },
 "nbformat": 4,
 "nbformat_minor": 5
}
